{
 "cells": [
  {
   "cell_type": "markdown",
   "metadata": {},
   "source": [
    "# LIBRERÍA DE NÚMEROS COMPLEJOS \n",
    "\n",
    "En el presente documento, vamos a describir funciones que nos permitirán trabajar con números complejos, dentro del código de cada una de estas funciones realizadas en Python, se presenta una corta descripción de su funcionamiento como comentario; seguido a esto se encontrará una prueba para cada una de las funciones demostrando su funcionamiento y la solución del problema ingresado paso a paso para corroborar el resultado dado por la función."
   ]
  },
  {
   "cell_type": "markdown",
   "metadata": {},
   "source": [
    "## Representación de un número complejo\n",
    "A lo largo de este documento, los números complejos de la forma $a+ib$ serán representados mediante listas de la siguiente manera: $[a,b]$.\n",
    "\n",
    "Del mismo modo tenga en cuenta que 'c_1' y 'c_2' representan números complejos y que 'p_1' representa un número complejo en su forma polar."
   ]
  },
  {
   "cell_type": "markdown",
   "metadata": {},
   "source": [
    "### Suma"
   ]
  },
  {
   "cell_type": "code",
   "execution_count": 145,
   "metadata": {},
   "outputs": [],
   "source": [
    "def suma(c_1, c_2):\n",
    "    \"\"\"\n",
    "    La funsión suma recibe dos números complejos: c_1 y c_2 (Que deben ser listas de longitud 2) y retorna un complejo\n",
    "    (lista con longitud 2) correspondiente a la operación c_1 + c_2.\n",
    "    \"\"\"\n",
    "    return [c_1[0] + c_2[0], c_1[1] + c_2[1]]"
   ]
  },
  {
   "cell_type": "markdown",
   "metadata": {},
   "source": [
    "Probemos la funsión ```suma```:"
   ]
  },
  {
   "cell_type": "code",
   "execution_count": 146,
   "metadata": {},
   "outputs": [
    {
     "data": {
      "text/plain": [
       "[10, 7]"
      ]
     },
     "execution_count": 146,
     "metadata": {},
     "output_type": "execute_result"
    }
   ],
   "source": [
    "c_1 = [3,2]\n",
    "c_2 = [7,5]\n",
    "suma (c_1, c_2)"
   ]
  },
  {
   "cell_type": "markdown",
   "metadata": {},
   "source": [
    "Justificación de la prueba:\n",
    "\n",
    "$ (3 + 2i) + (7 + 5i) $\n",
    "\n",
    "$ = ((3 + 7) + (2 + 5)i) $\n",
    "\n",
    "$ = (10 + 7i) $"
   ]
  },
  {
   "cell_type": "markdown",
   "metadata": {},
   "source": [
    "### Resta"
   ]
  },
  {
   "cell_type": "code",
   "execution_count": 147,
   "metadata": {},
   "outputs": [],
   "source": [
    "def resta(c_1, c_2):\n",
    "    \"\"\"\n",
    "    La funsión suma recibe dos números complejos, c_1 y c_2 (Que deben ser listas de longitud 2) y retorna un complejo\n",
    "    (lista con longitud 2) correspondiente a la operación c_1 - c_2.\n",
    "    \"\"\"\n",
    "    return [c_1[0] - c_2[0], c_1[1] - c_2[1]]"
   ]
  },
  {
   "cell_type": "markdown",
   "metadata": {},
   "source": [
    "Probemos la función ```resta```:"
   ]
  },
  {
   "cell_type": "code",
   "execution_count": 148,
   "metadata": {},
   "outputs": [
    {
     "data": {
      "text/plain": [
       "[1, 7]"
      ]
     },
     "execution_count": 148,
     "metadata": {},
     "output_type": "execute_result"
    }
   ],
   "source": [
    "c_1 = [4,8]\n",
    "c_2 = [3,1]\n",
    "resta (c_1, c_2)"
   ]
  },
  {
   "cell_type": "markdown",
   "metadata": {},
   "source": [
    "Justificación de la prueba:\n",
    "\n",
    "$ (4 + 8i) - (3 + 1i) $\n",
    "\n",
    "= $ ((4 - 3) + (8 - 1)i) $\n",
    "\n",
    "= $ (1 + 7i) $"
   ]
  },
  {
   "cell_type": "markdown",
   "metadata": {},
   "source": [
    "### Producto"
   ]
  },
  {
   "cell_type": "code",
   "execution_count": 149,
   "metadata": {},
   "outputs": [],
   "source": [
    "def producto(c_1, c_2):\n",
    "    \"\"\"\n",
    "    La funsión producto recibe 2 números complejos, c_1 y c_2 (Que deben ser listas de longitud 2) y retorna un complejo\n",
    "    (lista con longitud 2) correspondiente a la operación c_1 * c_2.\n",
    "    \"\"\"\n",
    "    return [c_1[0] * c_2[0] - c_1[1] * c_2[1] , c_1[0] * c_2[1] + c_1[1] * c_2[0]]"
   ]
  },
  {
   "cell_type": "markdown",
   "metadata": {},
   "source": [
    "Probemos la función ```producto```:"
   ]
  },
  {
   "cell_type": "code",
   "execution_count": 150,
   "metadata": {},
   "outputs": [
    {
     "data": {
      "text/plain": [
       "[-47, -28]"
      ]
     },
     "execution_count": 150,
     "metadata": {},
     "output_type": "execute_result"
    }
   ],
   "source": [
    "c_1 = [4,5]\n",
    "c_2 = [-8,3]\n",
    "producto (c_1, c_2)"
   ]
  },
  {
   "cell_type": "markdown",
   "metadata": {},
   "source": [
    "Justificación de la prueba:\n",
    "    \n",
    "$ (4 + 5i) * (-8 + 3i) $\n",
    "\n",
    "$ = -32 + 12i -40i + 15i^2 $\n",
    "\n",
    "$ = -32 - 28i - 15 $\n",
    "\n",
    "$ = (-47 -28i) $"
   ]
  },
  {
   "cell_type": "markdown",
   "metadata": {},
   "source": [
    "### División"
   ]
  },
  {
   "cell_type": "code",
   "execution_count": 151,
   "metadata": {},
   "outputs": [],
   "source": [
    "def division(c_1, c_2):\n",
    "    \"\"\"\n",
    "    La funsión division recibe 2 números complejos, c_1 y c_2 (Que deben ser listas de longitud 2) y retorna un complejo\n",
    "    (lista con longitud 2) correspondiente a la operación c_1 / c_2.\n",
    "    \"\"\"\n",
    "    a = producto(c_1, conjugado(c_2))\n",
    "    b = producto(c_2, conjugado(c_2))\n",
    "    print(a, \"/\", b)\n",
    "    return [a[0] / b[0], a[1] / b[0]]\n",
    "    "
   ]
  },
  {
   "cell_type": "markdown",
   "metadata": {},
   "source": [
    "Probemos la función ```division```:"
   ]
  },
  {
   "cell_type": "code",
   "execution_count": 152,
   "metadata": {},
   "outputs": [
    {
     "name": "stdout",
     "output_type": "stream",
     "text": [
      "[-7, -26] / [29, 0]\n"
     ]
    },
    {
     "data": {
      "text/plain": [
       "[-0.2413793103448276, -0.896551724137931]"
      ]
     },
     "execution_count": 152,
     "metadata": {},
     "output_type": "execute_result"
    }
   ],
   "source": [
    "c_1 = [4,-3]\n",
    "c_2 = [2,5]\n",
    "division(c_1, c_2)"
   ]
  },
  {
   "cell_type": "markdown",
   "metadata": {},
   "source": [
    "Justificación de la prueba:\n",
    "\n",
    "$ \\frac{4 - 3i}{2 + 5i} $\n",
    "\n",
    "$ = \\frac{(4 - 3i) * (2 - 5i)}{(2 + 5i) * (2 - 5i)} $\n",
    "\n",
    "$ = \\frac{8 - 20i - 6i + 15i^2}{(4 - 10i + 10i - 25i^2} $\n",
    "\n",
    "$ = \\frac{(-7 - 26i)}{29} $\n",
    "\n",
    "$ = \\frac{-7}{29} \\frac{-26}{29i} $\n",
    "\n",
    "$ = (-0.24138 -0.89655i) $"
   ]
  },
  {
   "cell_type": "markdown",
   "metadata": {},
   "source": [
    "### Conjugado"
   ]
  },
  {
   "cell_type": "code",
   "execution_count": 153,
   "metadata": {},
   "outputs": [],
   "source": [
    "def conjugado(c_1):\n",
    "    \"\"\"\n",
    "    La función conjugado recibe un número complejo, c_1 (que debe ser una lista de longitud 2) y retorna este mismo número, \n",
    "    pero con signo opuesto en la parte imaginaria.\n",
    "\n",
    "    \"\"\"\n",
    "    return [c_1[0], c_1[1] * -1]"
   ]
  },
  {
   "cell_type": "markdown",
   "metadata": {},
   "source": [
    "Probemos la función ```conjugado```:"
   ]
  },
  {
   "cell_type": "code",
   "execution_count": 154,
   "metadata": {},
   "outputs": [
    {
     "data": {
      "text/plain": [
       "[-2, -8]"
      ]
     },
     "execution_count": 154,
     "metadata": {},
     "output_type": "execute_result"
    }
   ],
   "source": [
    "c_1 = [-2,8]\n",
    "conjugado(c_1)"
   ]
  },
  {
   "cell_type": "markdown",
   "metadata": {},
   "source": [
    "Justificación de la prueba:\n",
    "\n",
    "Se llama conjugado de un número complejo al número complejo que se obtiene por simetría del dado respecto del eje de abscisas, para el caso del número $ (-2,8i) $ se tiene como cojugado a $(-2,-8i)$."
   ]
  },
  {
   "cell_type": "markdown",
   "metadata": {},
   "source": [
    "### Módulo"
   ]
  },
  {
   "cell_type": "code",
   "execution_count": 155,
   "metadata": {},
   "outputs": [],
   "source": [
    "import math\n",
    "def modulo(c_1):\n",
    "    \"\"\"\n",
    "    La funsión modulo recibe un número complejo, c_1 (que debe ser una lista de longitud 2) y retorna un número de tipo real.\n",
    "    \"\"\"\n",
    "    rta = math.sqrt(c_1[0] ** 2 + c_1[1] ** 2)\n",
    "    return rta"
   ]
  },
  {
   "cell_type": "markdown",
   "metadata": {},
   "source": [
    "Probemos la función ```modulo```:"
   ]
  },
  {
   "cell_type": "code",
   "execution_count": 156,
   "metadata": {},
   "outputs": [
    {
     "data": {
      "text/plain": [
       "5.0"
      ]
     },
     "execution_count": 156,
     "metadata": {},
     "output_type": "execute_result"
    }
   ],
   "source": [
    "c_1 = [3,4]\n",
    "modulo(c_1)"
   ]
  },
  {
   "cell_type": "markdown",
   "metadata": {},
   "source": [
    "\n",
    "Justificación de la prueba:  \n",
    "\n",
    "Módulo de $(3 + 4i) = \\sqrt{3^2 + 4^2} = \\sqrt{9 + 16} = \\sqrt{25} = 5$"
   ]
  },
  {
   "cell_type": "markdown",
   "metadata": {},
   "source": [
    "### Imprimir en la forma $ a + bi $"
   ]
  },
  {
   "cell_type": "code",
   "execution_count": 157,
   "metadata": {},
   "outputs": [],
   "source": [
    "def imprimir1(c_1):\n",
    "    \"\"\"\n",
    "    La funsión imprimir1 recibe un número complejo representado de la forma [a,b] y lo devuelve en la forma a + bi.\n",
    "    \"\"\"\n",
    "    print(str(c_1[0]) + \" + \" + str(c_1[1]) + \"i\")"
   ]
  },
  {
   "cell_type": "markdown",
   "metadata": {},
   "source": [
    "Probemos la función ```imprimir1```:"
   ]
  },
  {
   "cell_type": "code",
   "execution_count": 158,
   "metadata": {},
   "outputs": [
    {
     "name": "stdout",
     "output_type": "stream",
     "text": [
      "-1 + 5i\n"
     ]
    }
   ],
   "source": [
    "c_1 = [-1,5]\n",
    "imprimir1(c_1)"
   ]
  },
  {
   "cell_type": "markdown",
   "metadata": {},
   "source": [
    "### Convertir de forma cartesiana a polar"
   ]
  },
  {
   "cell_type": "code",
   "execution_count": 159,
   "metadata": {},
   "outputs": [],
   "source": [
    "def cartesiana_polar(c_1):\n",
    "    \"\"\"\n",
    "    La funsión cartesiana_polar recibe un número complejo c_1 en su forma binómica y lo retorna en su forma polar.\n",
    "    En el comentario siguiente (precedido por el simbolo #), encontrará otra opcion de return que devolverá el ángulo en grados.\n",
    "    \"\"\"\n",
    "    r = modulo(c_1)\n",
    "    a = math.atan(c_1[1]/c_1[0])\n",
    "    #return [r,math.degrees(a)] #(Ángulo en grados)\n",
    "    return [r, a]"
   ]
  },
  {
   "cell_type": "markdown",
   "metadata": {},
   "source": [
    "Probemos la función ```cartesiana_polar```:"
   ]
  },
  {
   "cell_type": "code",
   "execution_count": 160,
   "metadata": {},
   "outputs": [
    {
     "data": {
      "text/plain": [
       "[2.8284271247461903, 0.7853981633974483]"
      ]
     },
     "execution_count": 160,
     "metadata": {},
     "output_type": "execute_result"
    }
   ],
   "source": [
    "c_1 = [2,2]\n",
    "cartesiana_polar(c_1)"
   ]
  },
  {
   "cell_type": "markdown",
   "metadata": {},
   "source": [
    "Justificación de la prueba:\n",
    "\n",
    "Radio $= \\sqrt{2^2 + 2^2} = \\sqrt{4 + 4} = \\sqrt{8} = 2.828427$\n",
    "\n",
    "Angulo $= atan(\\frac{2}{2}) = atan(1) = 0.785398$\n",
    "\n",
    "$ (2.828427 + 0.785398i) $"
   ]
  },
  {
   "cell_type": "markdown",
   "metadata": {},
   "source": [
    "### Convertir de forma polar a cartesiana"
   ]
  },
  {
   "cell_type": "code",
   "execution_count": 161,
   "metadata": {},
   "outputs": [],
   "source": [
    "def polar_cartesiana(p_1):\n",
    "    \"\"\"\n",
    "    La funsión polar_cartesiana recibe un número complejo p_1 (que debe ser una lista de longitud 2) en su forma polar y \n",
    "    lo retorna en su forma binómica (lista con longitud 2).\n",
    "    \n",
    "    \"\"\"\n",
    "    a = p_1[0] * math.cos(p_1[1])\n",
    "    b = p_1[0] * math.sin(p_1[1])\n",
    "    return [a,b]"
   ]
  },
  {
   "cell_type": "markdown",
   "metadata": {},
   "source": [
    "Probemos la función ```polar_cartesiana```:"
   ]
  },
  {
   "cell_type": "code",
   "execution_count": 162,
   "metadata": {},
   "outputs": [
    {
     "data": {
      "text/plain": [
       "[1.4142135623730951, 1.4142135623730951]"
      ]
     },
     "execution_count": 162,
     "metadata": {},
     "output_type": "execute_result"
    }
   ],
   "source": [
    "p_1 = [2, math.pi/4]\n",
    "polar_cartesiana(p_1)"
   ]
  },
  {
   "cell_type": "markdown",
   "metadata": {},
   "source": [
    " Justificación de la prueba:\n",
    " \n",
    " Para pasar un número complejo de su forma polar a su forma cartesiana utilizaremos la siguiente fórmula: \n",
    "\n",
    "$$ (a + bi) = (r * cos(α) + r * sin(α)i) $$\n",
    " \n",
    " donde $r$ es el radio y $α$ el ángulo, así:\n",
    "\n",
    "$ (a + bi) = (2 * cos(\\frac{pi}{4}) + 2 * sin(\\frac{pi}{4})i) $\n",
    "\n",
    "$ (a + bi) = (2 * \\frac{\\sqrt{2}}{2} + 2 * \\frac{\\sqrt{2}}{2}i) $\n",
    "\n",
    "$ (a + bi) = (\\sqrt{2} + \\sqrt{2}i) $\n",
    "\n",
    "$ (a + bi) = (1.41421, 1.41421i) $"
   ]
  },
  {
   "cell_type": "markdown",
   "metadata": {},
   "source": [
    "### Imprimir en forma polar - exponencial"
   ]
  },
  {
   "cell_type": "code",
   "execution_count": 163,
   "metadata": {},
   "outputs": [],
   "source": [
    "def imprimir_exp(p_1):\n",
    "    \"\"\"\n",
    "    La funsión imprimir_exp recibe un número complejo p_1 (que debe ser una lista de longitud 2) en su forma polar y devuelve \n",
    "    este número en su forma exponencial.\n",
    "    \"\"\"\n",
    "    print(str(p_1[0]) + \"e^(i\" + str(round(p_1[1],4)) + \")\")"
   ]
  },
  {
   "cell_type": "markdown",
   "metadata": {},
   "source": [
    "Probemos la función ```imprimir_exp```:"
   ]
  },
  {
   "cell_type": "code",
   "execution_count": 164,
   "metadata": {},
   "outputs": [
    {
     "name": "stdout",
     "output_type": "stream",
     "text": [
      "2e^(i3.1416)\n"
     ]
    }
   ],
   "source": [
    "p_1 = [2, math.pi]\n",
    "imprimir_exp(p_1)"
   ]
  },
  {
   "cell_type": "markdown",
   "metadata": {},
   "source": [
    "### Potencia n de un número complejo"
   ]
  },
  {
   "cell_type": "code",
   "execution_count": 165,
   "metadata": {},
   "outputs": [],
   "source": [
    "def potencia_n(c_1, n):\n",
    "    \"\"\"\n",
    "    la funsión recibe un número complejo c_1 en su forma cartesiana y devuelve este mismo elevado a una potencia n.\n",
    "    \"\"\"\n",
    "  #Ingresando un número complejo en su forma binómica\n",
    "    c_p_1 = cartesiana_polar (c_1)\n",
    "    print(\"Forma Polar:\")\n",
    "    print(c_p_1)\n",
    "    rta = polar_cartesiana([c_p_1[0] ** n, c_p_1[1] * n])\n",
    "    return [round(rta[0]), round(rta[1])]"
   ]
  },
  {
   "cell_type": "markdown",
   "metadata": {},
   "source": [
    "Probemos la función ```potencia_n```:"
   ]
  },
  {
   "cell_type": "code",
   "execution_count": 166,
   "metadata": {},
   "outputs": [
    {
     "name": "stdout",
     "output_type": "stream",
     "text": [
      "Forma Polar:\n",
      "[1.4142135623730951, 0.7853981633974483]\n"
     ]
    },
    {
     "data": {
      "text/plain": [
       "[-4, 0]"
      ]
     },
     "execution_count": 166,
     "metadata": {},
     "output_type": "execute_result"
    }
   ],
   "source": [
    "c_1 = [1, 1]\n",
    "n = 4\n",
    "potencia_n(c_1, n)"
   ]
  },
  {
   "cell_type": "markdown",
   "metadata": {},
   "source": [
    " Justificación de la prueba: \n",
    "\n",
    "Comenzaremos hallando la forma polar del número complejo $(1 + i)$ que se encuentra en su forma binómica:\n",
    "\n",
    "Radio $= \\sqrt{1^2 + 1^2} = \\sqrt{1 + 1} = \\sqrt{2} = 1.414213$\n",
    "\n",
    "Angulo $= atan(\\frac{1}{1}) = atan(1) = 0.785398$\n",
    "\n",
    "A partir de la forma polar del número dado, utilizamos la siguiente fórmula: \n",
    "\n",
    "$$(r, α)^n = (r^n, α * n)$$\n",
    "\n",
    "donde $r$ es el radio, $α$ es el ángulo y $n$ es la potencia a elevar, así:\n",
    "\n",
    "$(\\sqrt{2}, atan(1))^4 = (\\sqrt{2}^4, atan(1) * 4) = (4, pi)$\n",
    "\n",
    "Lluego delvovemos el número elevado a la potencia 4 a su forma binómica:\n",
    "\n",
    "\n",
    "$ (a + bi) = (4 * cos(pi) + 4 * sin(pi)i) $\n",
    "\n",
    "$ (a + bi) = (4 * (-1) + 2 * 0i) $\n",
    "\n",
    "$ (a + bi) = (-4 + 0i) $"
   ]
  }
 ],
 "metadata": {
  "kernelspec": {
   "display_name": "Python 3",
   "language": "python",
   "name": "python3"
  },
  "language_info": {
   "codemirror_mode": {
    "name": "ipython",
    "version": 3
   },
   "file_extension": ".py",
   "mimetype": "text/x-python",
   "name": "python",
   "nbconvert_exporter": "python",
   "pygments_lexer": "ipython3",
   "version": "3.7.4"
  }
 },
 "nbformat": 4,
 "nbformat_minor": 2
}
